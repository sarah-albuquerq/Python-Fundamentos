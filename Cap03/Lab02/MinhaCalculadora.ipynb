{
 "cells": [
  {
   "cell_type": "code",
   "execution_count": null,
   "metadata": {},
   "outputs": [
    {
     "name": "stdout",
     "output_type": "stream",
     "text": [
      "\n",
      "******************* Python Calculator *******************\n",
      "\n",
      " Selecione o número da operação desejada\n",
      " 1- Soma\n",
      " 2- Subtração\n",
      " 3- Multiplicação\n"
     ]
    }
   ],
   "source": [
    "print(\"\\n******************* Python Calculator *******************\")\n",
    "print(\"\\n Selecione o número da operação desejada\"\n",
    "\"\\n 1- Soma\"\n",
    "\"\\n 2- Subtração\"\n",
    "\"\\n 3- Multiplicação\n",
    "\"\\n 4- Divisão\")\n",
    "\n",
    "operacao = int(input(\"Digite sua opção\"))\n",
    "\n",
    "n1 = int(input(\"Digite o primeiro número\"))\n",
    "n2 = int(input(\"Digite o segundo número\"))\n",
    "\n",
    "\n",
    "def soma(n1,n2):\n",
    "    return n1+n2\n",
    "\n",
    "def sub (n1,n2):\n",
    "    return n1-n2\n",
    "\n",
    "def multip (n1,n2):\n",
    "    return n1*n2\n",
    "\n",
    "def divis (n1,n2):\n",
    "    return n1/n2\n",
    "\n",
    "if operacao == 1:\n",
    "    print('%s + %r = ' %(n1,n2), soma(n1,n2))\n",
    "elif operacao == 2:\n",
    "    print('%s - %r = ' %(n1,n2), sub(n1,n2))\n",
    "elif operacao == 3:\n",
    "    print('%s x %r = ' %(n1,n2), multip(n1,n2))\n",
    "elif operacao == 4:\n",
    "    print('%s / %r = ' %(n1,n2), divis(n1,n2))\n",
    "else:\n",
    "    print('Opção inválida!')"
   ]
  },
  {
   "cell_type": "code",
   "execution_count": null,
   "metadata": {},
   "outputs": [],
   "source": []
  }
 ],
 "metadata": {
  "kernelspec": {
   "display_name": "Python 3",
   "language": "python",
   "name": "python3"
  },
  "language_info": {
   "codemirror_mode": {
    "name": "ipython",
    "version": 3
   },
   "file_extension": ".py",
   "mimetype": "text/x-python",
   "name": "python",
   "nbconvert_exporter": "python",
   "pygments_lexer": "ipython3",
   "version": "3.8.3"
  }
 },
 "nbformat": 4,
 "nbformat_minor": 4
}
